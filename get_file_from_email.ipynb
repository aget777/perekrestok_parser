{
 "cells": [
  {
   "cell_type": "code",
   "execution_count": 2,
   "id": "32a2c1f5-6964-4062-972d-cd04facf7b96",
   "metadata": {},
   "outputs": [],
   "source": [
    "import imaplib\n",
    "import email\n",
    "from email.header import decode_header\n",
    "import base64\n",
    "from bs4 import BeautifulSoup\n",
    "import re\n",
    "import config\n",
    "import os\n",
    "import sys\n",
    "\n",
    "\n",
    "file_path = config.email_file_path\n",
    "# keywords_list = ['X5_Perekrestok_Geo', 'Weborama_Standart_Weekly']\n"
   ]
  },
  {
   "cell_type": "code",
   "execution_count": null,
   "id": "185a9d2e-f291-4f52-8530-9bb55f596aaf",
   "metadata": {},
   "outputs": [],
   "source": []
  },
  {
   "cell_type": "code",
   "execution_count": 5,
   "id": "3c5cb069-4f20-45be-bc35-a189f27092a9",
   "metadata": {},
   "outputs": [],
   "source": [
    "def get_connection():\n",
    "    imap_server = \"imap.mail.ru\"\n",
    "    mail_pass = config.mail_pass\n",
    "    username = config.username\n",
    "\n",
    "    imap = imaplib.IMAP4_SSL(imap_server)\n",
    "    imap.login(username, mail_pass)\n",
    "    return imap"
   ]
  },
  {
   "cell_type": "code",
   "execution_count": null,
   "id": "08a54d07-ffbc-4e34-acc0-d16e5c8e3ca9",
   "metadata": {},
   "outputs": [],
   "source": []
  },
  {
   "cell_type": "code",
   "execution_count": null,
   "id": "a0e7f56c-7e58-4033-b50b-6619a3e440ac",
   "metadata": {},
   "outputs": [],
   "source": []
  },
  {
   "cell_type": "code",
   "execution_count": 4,
   "id": "5023c8a9-745c-4c23-93f6-a925c54c714e",
   "metadata": {},
   "outputs": [],
   "source": [
    "def get_file_from_email(keyword):\n",
    "\n",
    "    imap = get_connection()\n",
    "    imap.select(\"INBOX\")\n",
    "    \n",
    "    result, data = imap.search(None, f'(HEADER Subject \"{keyword}\")')\n",
    "    if not data[0]:\n",
    "        return sys.exit('Exiting the program')\n",
    "    target_mail_id = data[0].split()[-1] # если несколько писем, то забираем последнее\n",
    "    \n",
    "    # если нужного письма нет, то выходим из программы\n",
    "    if not target_mail_id:\n",
    "        return sys.exit('Exiting the program')\n",
    "    \n",
    "    result, data = imap.fetch(target_mail_id, '(RFC822)') # забираем содержимое письма\n",
    "    raw_email = data[0][1] # содержимое в закодированном виде\n",
    "    \n",
    "    try:\n",
    "      email_message = email.message_from_string(raw_email)\t\n",
    "    except TypeError:\n",
    "        email_message = email.message_from_bytes(raw_email)\n",
    "\n",
    "    print (\"--- нашли письмо от: \",email.header.make_header(email.header.decode_header(email_message['From'])))\n",
    "    for part in email_message.walk():\n",
    "        # проходим по содержимому письма\n",
    "        if \"application\" in part.get_content_type():\t    \n",
    "            filename = part.get_filename()\n",
    "            # создаем заголовок\n",
    "            # filename=str(email.header.make_header(email.header.decode_header(filename)))\n",
    "            # на всякий случай, если заголовка нет, то присваимваем свой\n",
    "            # if not(filename): \n",
    "            #     filename = \"weborama_report_X5_Perekrestok_Geo.xlsx\"\n",
    "            filename = keyword + '.xlsx'\n",
    "            print (f'---- нашли вложение {filename}')\n",
    "            fp = open(os.path.join(file_path, filename), 'wb')\n",
    "            fp.write(part.get_payload(decode=1))\n",
    "            fp.close\n",
    "            print (\"-- удаляем письмо\");\n",
    "            imap.store(target_mail_id, '+FLAGS', '(\\Deleted)')  \n",
    "            imap.expunge()\n",
    "\n",
    "    imap.close()\n",
    "    imap.logout()"
   ]
  },
  {
   "cell_type": "code",
   "execution_count": null,
   "id": "4eb95484-18a0-44e8-851e-50a795786fee",
   "metadata": {},
   "outputs": [],
   "source": [
    "# get_file_from_email(keyword)"
   ]
  },
  {
   "cell_type": "code",
   "execution_count": null,
   "id": "d7e4137f-84ca-48aa-ae14-2f89db61662e",
   "metadata": {},
   "outputs": [],
   "source": [
    "# for keyword in keywords_list:\n",
    "#     get_file_from_email(keyword)\n"
   ]
  },
  {
   "cell_type": "code",
   "execution_count": null,
   "id": "e3c578d5-7a47-430d-b7cd-d04df45f8a24",
   "metadata": {},
   "outputs": [],
   "source": []
  },
  {
   "cell_type": "code",
   "execution_count": null,
   "id": "769ee675-da50-46f2-8e67-d39e2225d0fb",
   "metadata": {},
   "outputs": [],
   "source": []
  },
  {
   "cell_type": "code",
   "execution_count": null,
   "id": "fb3590df-8424-4e7f-852b-ef49d293a401",
   "metadata": {},
   "outputs": [],
   "source": []
  }
 ],
 "metadata": {
  "kernelspec": {
   "display_name": "Python 3 (ipykernel)",
   "language": "python",
   "name": "python3"
  },
  "language_info": {
   "codemirror_mode": {
    "name": "ipython",
    "version": 3
   },
   "file_extension": ".py",
   "mimetype": "text/x-python",
   "name": "python",
   "nbconvert_exporter": "python",
   "pygments_lexer": "ipython3",
   "version": "3.11.7"
  }
 },
 "nbformat": 4,
 "nbformat_minor": 5
}
