{
 "cells": [
  {
   "cell_type": "code",
   "execution_count": 1,
   "id": "e7252988-7987-4981-a743-58dbaef9ce80",
   "metadata": {},
   "outputs": [],
   "source": [
    "import pandas as pd\n",
    "import os\n",
    "from get_file_from_email import *\n",
    "from db_funcs import *\n",
    "from normalize_funcs import *\n",
    "import config\n",
    "import numpy as np\n",
    "import warnings\n",
    "\n",
    "warnings.simplefilter(action='ignore', category=FutureWarning)\n",
    "db_name = config.db_name\n",
    "\n",
    "# Файл для создания справочника weborama_accounts - собрал руками и сохранил в эксель\n",
    "# это нужно только для 1 загрузки, чтобы потом сверяться с таблице из БД и проверять изменения\n",
    "file_name = 'weborama_accounts.xlsx'\n",
    "file_path = r'C:\\Users\\o.bogomolov\\Desktop\\Jupyter_notebook\\38_x5_report_parser\\weborama'"
   ]
  },
  {
   "cell_type": "code",
   "execution_count": 2,
   "id": "e2c3b638-c450-43a7-85e0-59fc65809fe2",
   "metadata": {},
   "outputs": [
    {
     "name": "stdout",
     "output_type": "stream",
     "text": [
      "Все ок. Подключились!\n",
      "Данные загружены\n"
     ]
    }
   ],
   "source": [
    "# при первом подключении заюираем справочник Источников из MySQL\n",
    "# необходимо его пересоздать в MSSQL\n",
    "# при повторных подключениях будем работать именно с MSSQL\n",
    "table_name = 'source_types'\n",
    "df_sources = get_mysql_full_dict_table(db_name, table_name)\n",
    "\n",
    "df_sources = df_sources.drop(['created_at', 'updated_at'], axis=1)"
   ]
  },
  {
   "cell_type": "code",
   "execution_count": 3,
   "id": "21401f5b-3d55-4126-ad1b-bb532c81258e",
   "metadata": {},
   "outputs": [],
   "source": [
    "# Справочник Источников\n",
    "# создаем общий список названий полей и типов данных \n",
    "# этот список передаем в БД MSSQL для создания новой таблицы\n",
    "\n",
    "db_vars_str = [\n",
    "            'id smallint',\n",
    "            'name nvarchar(100)',\n",
    "            'ak_source_name nvarchar(100)',\n",
    "            'sign nvarchar(100)',\n",
    "            'utm_source_main nvarchar(100)',\n",
    "            'source_engine nvarchar(100)',\n",
    "            'utm_source_metrika nvarchar(100)']"
   ]
  },
  {
   "cell_type": "code",
   "execution_count": 4,
   "id": "af0f076e-3b44-48f0-9713-56d8db9ecc18",
   "metadata": {},
   "outputs": [
    {
     "name": "stdout",
     "output_type": "stream",
     "text": [
      "Все ок. Подключились!\n",
      "Пустая таблица full_source_types успешно создана в БД tenant_perekrestok_project\n"
     ]
    }
   ],
   "source": [
    "# создаем пустую таблицу Справочников в БД\n",
    "table_name = 'full_source_types'\n",
    "createDBTable(db_name, table_name, db_vars_str)"
   ]
  },
  {
   "cell_type": "code",
   "execution_count": 5,
   "id": "1eaa0f82-e737-4199-96d7-949ab5429dc3",
   "metadata": {},
   "outputs": [],
   "source": [
    "int_lst = ['id']\n",
    "df_sources = normalize_columns_types(df_sources, int_lst)"
   ]
  },
  {
   "cell_type": "code",
   "execution_count": 6,
   "id": "61d9cc22-21f0-4b44-beb8-577ce611ae7a",
   "metadata": {},
   "outputs": [
    {
     "name": "stdout",
     "output_type": "stream",
     "text": [
      "Все ок. Подключились!\n",
      "Скрипт запущен 2025-02-26 17:38:58.773063\n",
      "Данные добавлены в БД: tenant_perekrestok_project, таблица: full_source_types\n",
      "Скрипт отработал 2025-02-26 17:38:58.791067\n",
      "Время выполнения задачи: 0:00:00.018004\n",
      "Загрузка завершена. Данные успешно добавлены в БД: tenant_perekrestok_project\n",
      "##################################################\n",
      "\n"
     ]
    }
   ],
   "source": [
    "# записываем справочник Источников в БД\n",
    "table_name = 'full_source_types'\n",
    "downloadTableToDB(db_name, table_name, df_sources)"
   ]
  },
  {
   "cell_type": "code",
   "execution_count": null,
   "id": "2a8352e2-7f16-40bf-920d-1bda898f3b0a",
   "metadata": {},
   "outputs": [],
   "source": []
  },
  {
   "cell_type": "code",
   "execution_count": null,
   "id": "b7521e77-e299-4e4c-a11e-8a596e4e4611",
   "metadata": {},
   "outputs": [],
   "source": []
  },
  {
   "cell_type": "code",
   "execution_count": 7,
   "id": "1d7a91f0-bbb3-4324-8442-f37a31b953db",
   "metadata": {},
   "outputs": [
    {
     "name": "stdout",
     "output_type": "stream",
     "text": [
      "Все ок. Подключились!\n",
      "Данные загружены\n"
     ]
    }
   ],
   "source": [
    "table_name = 'accounts'\n",
    "df_accs = get_mysql_full_dict_table(db_name, table_name)\n",
    "\n",
    "df_accs = df_accs[['id', 'source_type_id', 'account_name', 'account_id', 'acc_id_flag']]\n",
    "df_accs['weborama_account_name'] = 'x5_perekrestok'"
   ]
  },
  {
   "cell_type": "code",
   "execution_count": 8,
   "id": "d6f90293-f736-4652-b704-44f366c32a2f",
   "metadata": {},
   "outputs": [],
   "source": [
    "# Общий Справочник Аккаунтов\n",
    "# создаем общий список названий полей и типов данных \n",
    "# этот список передаем в БД MSSQL для создания новой таблицы\n",
    "\n",
    "db_vars_str = [\n",
    "            'id smallint',\n",
    "            'source_type_id smallint',\n",
    "            'account_name nvarchar(100)',\n",
    "            'account_id smallint',\n",
    "            'acc_id_flag nvarchar(3)',\n",
    "            'weborama_account_name nvarchar(100)']"
   ]
  },
  {
   "cell_type": "code",
   "execution_count": 9,
   "id": "1a1240ea-8b47-46e7-a837-df063d5c9027",
   "metadata": {},
   "outputs": [
    {
     "name": "stdout",
     "output_type": "stream",
     "text": [
      "Все ок. Подключились!\n",
      "Пустая таблица full_accounts_dict успешно создана в БД tenant_perekrestok_project\n"
     ]
    }
   ],
   "source": [
    "# создаем пустую таблицу Аккаунтов в БД\n",
    "table_name = 'full_accounts_dict'\n",
    "createDBTable(db_name, table_name, db_vars_str)"
   ]
  },
  {
   "cell_type": "code",
   "execution_count": 10,
   "id": "fb687e76-cd77-47a6-b1bc-bc3a4e595788",
   "metadata": {},
   "outputs": [],
   "source": [
    "int_lst = ['id', 'source_type_id', 'account_id']\n",
    "df_accs = normalize_columns_types(df_accs, int_lst)"
   ]
  },
  {
   "cell_type": "code",
   "execution_count": 11,
   "id": "d34eee4f-f891-4c16-b0cb-82b9e3fc3d1f",
   "metadata": {},
   "outputs": [
    {
     "name": "stdout",
     "output_type": "stream",
     "text": [
      "Все ок. Подключились!\n",
      "Скрипт запущен 2025-02-26 17:39:16.601419\n",
      "Данные добавлены в БД: tenant_perekrestok_project, таблица: full_accounts_dict\n",
      "Скрипт отработал 2025-02-26 17:39:16.619418\n",
      "Время выполнения задачи: 0:00:00.017999\n",
      "Загрузка завершена. Данные успешно добавлены в БД: tenant_perekrestok_project\n",
      "##################################################\n",
      "\n"
     ]
    }
   ],
   "source": [
    "# записываем справочник Аккаунтов в БД\n",
    "table_name = 'full_accounts_dict'\n",
    "downloadTableToDB(db_name, table_name, df_accs)"
   ]
  },
  {
   "cell_type": "code",
   "execution_count": null,
   "id": "5a72bece-0461-469f-87fd-d605c99bf29d",
   "metadata": {},
   "outputs": [],
   "source": []
  },
  {
   "cell_type": "code",
   "execution_count": null,
   "id": "4dfd792a-7eac-47b6-bd71-58b1e3262f33",
   "metadata": {},
   "outputs": [],
   "source": []
  },
  {
   "cell_type": "code",
   "execution_count": null,
   "id": "ead24d2c-18b3-4c8e-8202-31229004e3d1",
   "metadata": {},
   "outputs": [],
   "source": []
  },
  {
   "cell_type": "code",
   "execution_count": 12,
   "id": "6edc462c-2ec0-4fa3-9ba8-c5a68422dd0f",
   "metadata": {},
   "outputs": [],
   "source": [
    "# Справочник Аккаунтов Weborama\n",
    "# создаем общий список названий полей и типов данных \n",
    "# этот список передаем в БД MSSQL для создания новой таблицы\n",
    "\n",
    "db_vars_str = [\n",
    "            'source_type_id smallint',\n",
    "            'account_name nvarchar(100)',\n",
    "            'account_id smallint']"
   ]
  },
  {
   "cell_type": "code",
   "execution_count": 13,
   "id": "46bc9171-033b-4bc4-8329-0bb1ac164b87",
   "metadata": {},
   "outputs": [
    {
     "name": "stdout",
     "output_type": "stream",
     "text": [
      "Все ок. Подключились!\n",
      "Пустая таблица weborama_accounts успешно создана в БД tenant_perekrestok_project\n"
     ]
    }
   ],
   "source": [
    "# создаем пустую таблицу Аккаунтов в БД\n",
    "table_name = 'weborama_accounts'\n",
    "createDBTable(db_name, table_name, db_vars_str)"
   ]
  },
  {
   "cell_type": "code",
   "execution_count": 15,
   "id": "2790ae15-74aa-4e8b-bc0b-1c184728a495",
   "metadata": {},
   "outputs": [],
   "source": [
    "df_weborama_accounts = pd.read_excel(os.path.join(file_path, file_name))\n",
    "df_weborama_accounts = df_weborama_accounts[['source_type_id', 'account_name', 'account_id']]"
   ]
  },
  {
   "cell_type": "code",
   "execution_count": 16,
   "id": "8e36f203-741a-460c-8c9c-75ef5104f071",
   "metadata": {},
   "outputs": [],
   "source": [
    "int_lst = ['source_type_id', 'account_id']\n",
    "df_weborama_accounts = normalize_columns_types(df_weborama_accounts, int_lst)\n",
    "df_weborama_accounts = df_weborama_accounts.sort_values('source_type_id')"
   ]
  },
  {
   "cell_type": "code",
   "execution_count": null,
   "id": "8e7d6241-c1b3-48ec-97c3-fcc9c703ca84",
   "metadata": {},
   "outputs": [],
   "source": []
  },
  {
   "cell_type": "code",
   "execution_count": 17,
   "id": "2c22152a-8b19-46e7-b5dc-bf14f04b5e29",
   "metadata": {},
   "outputs": [
    {
     "name": "stdout",
     "output_type": "stream",
     "text": [
      "Все ок. Подключились!\n",
      "Скрипт запущен 2025-02-26 17:40:03.126520\n",
      "Данные добавлены в БД: tenant_perekrestok_project, таблица: weborama_accounts\n",
      "Скрипт отработал 2025-02-26 17:40:03.140519\n",
      "Время выполнения задачи: 0:00:00.013999\n",
      "Загрузка завершена. Данные успешно добавлены в БД: tenant_perekrestok_project\n",
      "##################################################\n",
      "\n"
     ]
    }
   ],
   "source": [
    "# записываем справочник Аккаунтов Weborama в БД\n",
    "table_name = 'weborama_accounts'\n",
    "downloadTableToDB(db_name, table_name, df_weborama_accounts)"
   ]
  },
  {
   "cell_type": "code",
   "execution_count": null,
   "id": "a783f1de-4e09-48ee-a1c6-5eb2db9359b4",
   "metadata": {},
   "outputs": [],
   "source": []
  },
  {
   "cell_type": "code",
   "execution_count": 18,
   "id": "be6557f8-85fb-423b-99fe-003d9946e362",
   "metadata": {},
   "outputs": [
    {
     "name": "stdout",
     "output_type": "stream",
     "text": [
      "Все ок. Подключились!\n",
      "Загрузка завершена успешно\n"
     ]
    }
   ],
   "source": [
    "# Добавим аккаунты Веборамы к таблице всех Аккаунтов\n",
    "# Это тоже первая заливка, в дальнейшем будем добавлять только новые аккаунты\n",
    "table_name = 'weborama_accounts'\n",
    "df_weborama_accounts = get_mssql_table(db_name, table_name)"
   ]
  },
  {
   "cell_type": "code",
   "execution_count": 19,
   "id": "78bc02dd-6d78-48da-9412-0e90d3a98e3b",
   "metadata": {},
   "outputs": [
    {
     "name": "stdout",
     "output_type": "stream",
     "text": [
      "Все ок. Подключились!\n",
      "Загрузка завершена успешно\n"
     ]
    }
   ],
   "source": [
    "table_name = 'full_accounts_dict'\n",
    "df_accounts = get_mssql_table(db_name, table_name)"
   ]
  },
  {
   "cell_type": "code",
   "execution_count": null,
   "id": "c96b81b2-cbc1-472c-bd01-f57210166604",
   "metadata": {},
   "outputs": [],
   "source": []
  },
  {
   "cell_type": "code",
   "execution_count": 20,
   "id": "6cb9406a-b456-4e16-ba48-01e5a9494395",
   "metadata": {},
   "outputs": [],
   "source": [
    "max_account_id = df_accounts['id'].max()+1 # забираем максимальный ИД из справояника MSSQL\n",
    "# создаем нумерацию новых аккаунтов, начиная с последней записи из общего справочника аккаунтов\n",
    "ids_list = [i for i in range(max_account_id, len(df_weborama_accounts)+max_account_id)]\n",
    "# добавляем новое поле к таблице аккаунтов из Веборамы\n",
    "df_weborama_accounts['id'] = pd.Series(ids_list)\n",
    "# добавляем ведущий ноль к ИД аккаунта\n",
    "df_weborama_accounts['acc_id_flag'] = df_weborama_accounts['id'].apply(lambda x: '0' + str(x) if len(str(x))<2 else str(x))\n",
    "# добавляем поле с названием аккаунта, чтобы сошлись таблицы \n",
    "df_weborama_accounts['weborama_account_name'] = df_weborama_accounts['account_name']\n",
    "# создаем итоговый датаФрейм для записи с Общим справочником аккаунтов\n",
    "df_union_accounts = pd.concat([df_accounts, df_weborama_accounts])"
   ]
  },
  {
   "cell_type": "code",
   "execution_count": null,
   "id": "35e822cb-cd3a-49fc-b3b8-f59d604c1a45",
   "metadata": {},
   "outputs": [],
   "source": []
  },
  {
   "cell_type": "code",
   "execution_count": 21,
   "id": "eaa5aa71-480e-49c1-9c8e-2f1ca46937f9",
   "metadata": {},
   "outputs": [],
   "source": [
    "# Общий Справочник Аккаунтов\n",
    "# создаем общий список названий полей и типов данных \n",
    "# этот список передаем в БД MSSQL для создания новой таблицы\n",
    "\n",
    "db_vars_str = [\n",
    "            'id smallint',\n",
    "            'source_type_id smallint',\n",
    "            'account_name nvarchar(100)',\n",
    "            'account_id smallint',\n",
    "            'acc_id_flag nvarchar(3)',\n",
    "            'weborama_account_name nvarchar(100)']"
   ]
  },
  {
   "cell_type": "code",
   "execution_count": 22,
   "id": "c3aa2498-eb26-43f3-9745-a92c47eaaacc",
   "metadata": {},
   "outputs": [
    {
     "name": "stdout",
     "output_type": "stream",
     "text": [
      "Все ок. Подключились!\n",
      "Все ок. Подключились!\n",
      "Таблица: full_accounts_dict успешно удалена в БД: tenant_perekrestok_project\n",
      "##########\n",
      "Пустая таблица full_accounts_dict успешно создана в БД tenant_perekrestok_project\n",
      "Все ок. Подключились!\n",
      "Скрипт запущен 2025-02-26 17:40:24.017973\n",
      "Данные добавлены в БД: tenant_perekrestok_project, таблица: full_accounts_dict\n",
      "Скрипт отработал 2025-02-26 17:40:24.036973\n",
      "Время выполнения задачи: 0:00:00.019000\n",
      "Загрузка завершена. Данные успешно добавлены в БД: tenant_perekrestok_project\n",
      "##################################################\n",
      "\n"
     ]
    }
   ],
   "source": [
    "# записываем новую таблицу в БД\n",
    "table_name = 'full_accounts_dict'\n",
    "\n",
    "createDBTable(db_name, table_name, db_vars_str, flag='drop')\n",
    "downloadTableToDB(db_name, table_name, df_union_accounts)"
   ]
  },
  {
   "cell_type": "code",
   "execution_count": null,
   "id": "e6687dc7-b855-48bd-9711-dce823eda57d",
   "metadata": {},
   "outputs": [],
   "source": []
  },
  {
   "cell_type": "code",
   "execution_count": null,
   "id": "388d8d5f-bf7c-44f7-9db3-c9f923f3a174",
   "metadata": {},
   "outputs": [],
   "source": []
  },
  {
   "cell_type": "code",
   "execution_count": null,
   "id": "eaebc54a-d5e1-47d8-84fd-953fc736f4d3",
   "metadata": {},
   "outputs": [],
   "source": []
  },
  {
   "cell_type": "code",
   "execution_count": null,
   "id": "64793910-bfe7-4917-bd3a-cf261e04eeaf",
   "metadata": {},
   "outputs": [],
   "source": [
    "# Ежедневный отчет Веборама\n",
    "# создаем общий список названий полей и типов данных \n",
    "# этот список передаем в БД MSSQL для создания новой таблицы\n",
    "\n",
    "db_vars_str = [\n",
    "            'date nvarchar(10)',\n",
    "            'campaign_id smallint',\n",
    "            'campaign_name nvarchar(100)',\n",
    "            'site_offer_id smallint',\n",
    "            'source nvarchar(100)',\n",
    "            'insertion_id smallint',\n",
    "            'insertion nvarchar(200)',\n",
    "            'account_name nvarchar(100)',\n",
    "            'impressions int',\n",
    "            'clicks int',\n",
    "            'reach_increment int',\n",
    "            'video_views_25 int',\n",
    "            'video_views_50 int',\n",
    "            'video_views_75 int',\n",
    "            'video_views_100 int',\n",
    "            'viewable_views int',\n",
    "            'type nvarchar(100)',\n",
    "            'category nvarchar(100)',\n",
    "            'product nvarchar(100)',\n",
    "            'flight nvarchar(100)',\n",
    "            'weborama_camp_name nvarchar(200)',\n",
    "            'source_type_id smallint',\n",
    "            'main_acc_id smallint',\n",
    "            'weborama_key_camp nvarchar(200)'\n",
    "]\n"
   ]
  },
  {
   "cell_type": "code",
   "execution_count": null,
   "id": "e8f63a89-e129-4f44-9804-130a8e45b280",
   "metadata": {},
   "outputs": [],
   "source": [
    "# пересоздаем пустую таблицу Справочников в БД\n",
    "table_name = 'weborama_report_table'\n",
    "createDBTable(db_name, table_name, db_vars_str)\n",
    "\n",
    "# dropTable(db_name, table_name)"
   ]
  }
 ],
 "metadata": {
  "kernelspec": {
   "display_name": "Python 3 (ipykernel)",
   "language": "python",
   "name": "python3"
  },
  "language_info": {
   "codemirror_mode": {
    "name": "ipython",
    "version": 3
   },
   "file_extension": ".py",
   "mimetype": "text/x-python",
   "name": "python",
   "nbconvert_exporter": "python",
   "pygments_lexer": "ipython3",
   "version": "3.11.7"
  }
 },
 "nbformat": 4,
 "nbformat_minor": 5
}
