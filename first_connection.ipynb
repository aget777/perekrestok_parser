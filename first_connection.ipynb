{
 "cells": [
  {
   "cell_type": "code",
   "execution_count": 1,
   "id": "e7252988-7987-4981-a743-58dbaef9ce80",
   "metadata": {},
   "outputs": [],
   "source": [
    "import pandas as pd\n",
    "import os\n",
    "from get_file_from_email import *\n",
    "from db_funcs import *\n",
    "from normalize_funcs import *\n",
    "import config\n",
    "import numpy as np\n",
    "import warnings\n",
    "\n",
    "warnings.simplefilter(action='ignore', category=FutureWarning)\n",
    "db_name = config.db_name\n",
    "\n",
    "# Файл для создания справочника weborama_accounts - собрал руками и сохранил в эксель\n",
    "# это нужно только для 1 загрузки, чтобы потом сверяться с таблице из БД и проверять изменения\n",
    "file_name = 'weborama_accounts.xlsx'\n",
    "file_path = config.email_file_path"
   ]
  },
  {
   "cell_type": "code",
   "execution_count": null,
   "id": "3d243bba-5c5b-4944-9c3e-2169972d2346",
   "metadata": {},
   "outputs": [],
   "source": []
  },
  {
   "cell_type": "code",
   "execution_count": null,
   "id": "e2c3b638-c450-43a7-85e0-59fc65809fe2",
   "metadata": {},
   "outputs": [],
   "source": [
    "# создаем справочник источников full_source_types\n",
    "# db_name = 'tenant_perekrestok'\n",
    "# при первом подключении заюираем справочник Источников из MySQL\n",
    "# необходимо его пересоздать в MSSQL\n",
    "# при повторных подключениях будем работать именно с MSSQL\n",
    "source_types = config.source_types #'source_types'\n",
    "df_sources = get_mysql_full_dict_table(db_name, source_types)\n",
    "\n",
    "df_sources = df_sources.drop(['created_at', 'updated_at'], axis=1)\n",
    "\n",
    "\n",
    "# создаем общий список названий полей и типов данных \n",
    "# этот список передаем в БД MSSQL для создания новой таблицы\n",
    "sources_vars_list = config.sources_vars_list\n",
    "db_name = config.db_name\n",
    "# создаем пустую таблицу Справочников в БД\n",
    "full_source_types = config.full_source_types #'full_source_types'\n",
    "createDBTable(db_name, full_source_types, sources_vars_list)\n",
    "\n",
    "source_int_lst = config.source_int_lst\n",
    "df_sources = normalize_columns_types(df_sources, source_int_lst)\n",
    "\n",
    "# записываем справочник Источников в БД\n",
    "# table_name = 'full_source_types'\n",
    "downloadTableToDB(db_name, full_source_types, df_sources)"
   ]
  },
  {
   "cell_type": "code",
   "execution_count": null,
   "id": "b7521e77-e299-4e4c-a11e-8a596e4e4611",
   "metadata": {},
   "outputs": [],
   "source": []
  },
  {
   "cell_type": "code",
   "execution_count": null,
   "id": "1d7a91f0-bbb3-4324-8442-f37a31b953db",
   "metadata": {},
   "outputs": [],
   "source": [
    "# Создаем справочник аккаунтов full_accounts_dict\n",
    "# db_name = 'tenant_perekrestok'\n",
    "\n",
    "accounts = config.accounts #'accounts'\n",
    "df_accounts = get_mysql_full_dict_table(db_name, accounts)\n",
    "\n",
    "source_types = config.source_types #'source_types'\n",
    "df_sources = get_mysql_full_dict_table(db_name, source_types)\n",
    "\n",
    "df_sources = df_sources.drop(['created_at', 'updated_at'], axis=1)\n",
    "df_sources = df_sources.rename(columns={'id': 'source_type_id'})\n",
    "df_accounts = df_accounts[['id', 'source_type_id', 'account_name', 'account_id', 'acc_id_flag']]\n",
    "df_accounts['weborama_account_name'] = 'x5_perekrestok'\n",
    "# # добавляем к справочнику Аккаунтов названия Источников\n",
    "df_accounts = df_accounts.merge(df_sources[['source_type_id', 'utm_source_metrika']], how='left', left_on='source_type_id', right_on='source_type_id')\n",
    "df_accounts = df_accounts.rename(columns={'utm_source_metrika': 'source'})\n",
    "\n",
    "# забираем название для справочника аккаунтов MSSQL\n",
    "full_accounts_dict = config.full_accounts_dict #'full_accounts_dict'\n",
    "\n",
    "\n",
    "# создаем общий список названий полей и типов данных \n",
    "# этот список передаем в БД MSSQL для создания новой таблицы\n",
    "db_name = config.db_name\n",
    "full_accounts_vars_list = config.full_accounts_vars_list\n",
    "# создаем пустую таблицу Аккаунтов в БД\n",
    "createDBTable(db_name, full_accounts_dict, full_accounts_vars_list)\n",
    "\n",
    "full_accounts_int_lst  = config.full_accounts_int_lst\n",
    "df_accounts = normalize_columns_types(df_accounts, full_accounts_int_lst)\n",
    "\n",
    "# записываем справочник Аккаунтов в БД\n",
    "# table_name = 'full_accounts_dict'\n",
    "downloadTableToDB(db_name, full_accounts_dict, df_accounts)"
   ]
  },
  {
   "cell_type": "code",
   "execution_count": null,
   "id": "4dfd792a-7eac-47b6-bd71-58b1e3262f33",
   "metadata": {},
   "outputs": [],
   "source": []
  },
  {
   "cell_type": "code",
   "execution_count": null,
   "id": "ead24d2c-18b3-4c8e-8202-31229004e3d1",
   "metadata": {},
   "outputs": [],
   "source": []
  },
  {
   "cell_type": "code",
   "execution_count": null,
   "id": "6edc462c-2ec0-4fa3-9ba8-c5a68422dd0f",
   "metadata": {},
   "outputs": [],
   "source": []
  },
  {
   "cell_type": "code",
   "execution_count": null,
   "id": "46bc9171-033b-4bc4-8329-0bb1ac164b87",
   "metadata": {},
   "outputs": [],
   "source": []
  },
  {
   "cell_type": "code",
   "execution_count": null,
   "id": "2c22152a-8b19-46e7-b5dc-bf14f04b5e29",
   "metadata": {},
   "outputs": [],
   "source": []
  },
  {
   "cell_type": "code",
   "execution_count": null,
   "id": "a783f1de-4e09-48ee-a1c6-5eb2db9359b4",
   "metadata": {},
   "outputs": [],
   "source": []
  },
  {
   "cell_type": "code",
   "execution_count": null,
   "id": "be6557f8-85fb-423b-99fe-003d9946e362",
   "metadata": {},
   "outputs": [],
   "source": []
  },
  {
   "cell_type": "code",
   "execution_count": null,
   "id": "e6687dc7-b855-48bd-9711-dce823eda57d",
   "metadata": {},
   "outputs": [],
   "source": []
  },
  {
   "cell_type": "code",
   "execution_count": null,
   "id": "388d8d5f-bf7c-44f7-9db3-c9f923f3a174",
   "metadata": {},
   "outputs": [],
   "source": [
    "# создаем cправочник Кампаний в БД weborama_camp_dict \n",
    "db_name = config.db_name\n",
    "weborama_camp_dict = config.weborama_camp_dict #'weborama_camp_dict'\n",
    "\n",
    "# Справочник Кампаний\n",
    "# этот список передаем в БД MSSQL для создания новой таблицы\n",
    "weborama_camp_dict_vars_lst  = config.weborama_camp_dict_vars_lst\n",
    "\n",
    "# создаем пустую таблицу\n",
    "createDBTable(db_name, weborama_camp_dict, weborama_camp_dict_vars_lst)"
   ]
  },
  {
   "cell_type": "code",
   "execution_count": null,
   "id": "eaebc54a-d5e1-47d8-84fd-953fc736f4d3",
   "metadata": {},
   "outputs": [],
   "source": []
  },
  {
   "cell_type": "code",
   "execution_count": null,
   "id": "7f9dac34-6b5f-4805-b50f-58ae9d3d4dca",
   "metadata": {},
   "outputs": [],
   "source": [
    " # Медиаплан в разбивке по дням weborama_plan_table\n",
    "db_name = config.db_name\n",
    "weborama_plan_table = config.weborama_plan_table #'weborama_plan_table'\n",
    "\n",
    "# создаем общий список названий полей и типов данных \n",
    "# этот список передаем в БД MSSQL для создания новой таблицы\n",
    "weborama_plan_table_vars_lst = config.weborama_plan_table_vars_lst\n",
    "\n",
    "# создаем пустую таблицу Справочников в БД\n",
    "createDBTable(db_name, weborama_plan_table, weborama_plan_table_vars_lst)"
   ]
  },
  {
   "cell_type": "code",
   "execution_count": null,
   "id": "0ec58192-d4f0-4339-a346-20de8ac038c7",
   "metadata": {},
   "outputs": [],
   "source": []
  },
  {
   "cell_type": "code",
   "execution_count": null,
   "id": "7039ea22-de7f-445c-9eb2-258124cf6904",
   "metadata": {},
   "outputs": [],
   "source": [
    "# Ежедневный отчет Веборама weborama_report_table БЕЗ ФИЛЬРАЦИИ\n",
    "db_name = config.db_x5_name\n",
    "weborama_raw_report_table = config.weborama_raw_report_table #'weborama_report_table'\n",
    "\n",
    "# создаем общий список названий полей и типов данных \n",
    "# этот список передаем в БД MSSQL для создания новой таблицы\n",
    "weborama_raw_report_table_vars_lst = config.weborama_raw_report_table_vars_lst\n",
    "\n",
    "# пересоздаем пустую таблицу Справочников в БД\n",
    "createDBTable(db_name, weborama_raw_report_table, weborama_raw_report_table_vars_lst)\n",
    "# dropTable(db_name, table_name)"
   ]
  },
  {
   "cell_type": "code",
   "execution_count": null,
   "id": "64793910-bfe7-4917-bd3a-cf261e04eeaf",
   "metadata": {},
   "outputs": [],
   "source": [
    "# Ежедневный отчет Веборама weborama_report_table по Перекрестку\n",
    "db_name = config.db_name\n",
    "weborama_report_table = config.weborama_report_table #'weborama_report_table'\n",
    "\n",
    "# создаем общий список названий полей и типов данных \n",
    "# этот список передаем в БД MSSQL для создания новой таблицы\n",
    "weborama_report_table_vars_lst = config.weborama_report_table_vars_lst\n",
    "\n",
    "# пересоздаем пустую таблицу Справочников в БД\n",
    "createDBTable(db_name, weborama_report_table, weborama_report_table_vars_lst)\n",
    "# dropTable(db_name, table_name)"
   ]
  },
  {
   "cell_type": "code",
   "execution_count": null,
   "id": "e8f63a89-e129-4f44-9804-130a8e45b280",
   "metadata": {},
   "outputs": [],
   "source": [
    "# гугл докс с фактическими значениями по Источникам для таблицы План-Факт\n",
    "db_name = config.db_name\n",
    "media_fact_table = config.media_fact_table #'media_fact_table'\n",
    "\n",
    "# создаем общий список названий полей и типов данных \n",
    "# этот список передаем в БД MSSQL для создания новой таблицы\n",
    "media_fact_table_vars_lst = config.media_fact_table_vars_lst\n",
    "\n",
    "# пересоздаем пустую таблицу Справочников в БД\n",
    "createDBTable(db_name, media_fact_table, media_fact_table_vars_lst)\n",
    "# dropTable(db_name, table_name)"
   ]
  },
  {
   "cell_type": "code",
   "execution_count": null,
   "id": "f7a2e82c-fd07-42eb-b0cf-3b546892766b",
   "metadata": {},
   "outputs": [],
   "source": [
    "# Справочник регионов для общей БД Х5\n",
    "db_name = config.db_x5_name\n",
    "weborama_regions_dist = config.weborama_regions_dist \n",
    "\n",
    "# создаем общий список названий полей и типов данных \n",
    "# этот список передаем в БД MSSQL для создания новой таблицы\n",
    "weborama_regions_dict_vars_lst = config.weborama_regions_dict_vars_lst\n",
    "\n",
    "# пересоздаем пустую таблицу Справочников в БД\n",
    "createDBTable(db_name, weborama_regions_dist, weborama_regions_dict_vars_lst)\n",
    "# dropTable(db_name, table_name)"
   ]
  },
  {
   "cell_type": "code",
   "execution_count": 2,
   "id": "6eeec98c-1caa-4584-8992-764472571bb7",
   "metadata": {},
   "outputs": [
    {
     "name": "stdout",
     "output_type": "stream",
     "text": [
      "Все ок. Подключились!\n",
      "Пустая таблица weborama_regions_dict успешно создана в БД tenant_perekrestok\n"
     ]
    }
   ],
   "source": [
    "# Справочник регионов для БД Перекресток\n",
    "db_name = config.db_name\n",
    "weborama_regions_dist = config.weborama_regions_dist \n",
    "\n",
    "# создаем общий список названий полей и типов данных \n",
    "# этот список передаем в БД MSSQL для создания новой таблицы\n",
    "weborama_regions_dict_vars_lst = config.weborama_regions_dict_vars_lst\n",
    "\n",
    "# пересоздаем пустую таблицу Справочников в БД\n",
    "createDBTable(db_name, weborama_regions_dist, weborama_regions_dict_vars_lst)\n",
    "# dropTable(db_name, table_name)"
   ]
  },
  {
   "cell_type": "code",
   "execution_count": null,
   "id": "c078112f-02dc-42f7-bd75-68ea72b4013d",
   "metadata": {},
   "outputs": [],
   "source": [
    "# Ежедневный отчет Веборама Гео для общей БД Х5\n",
    "db_name = config.db_x5_name\n",
    "weborama_geo_report = config.weborama_geo_report \n",
    "\n",
    "# создаем общий список названий полей и типов данных \n",
    "# этот список передаем в БД MSSQL для создания новой таблицы\n",
    "weborama_geo_report_vars_lst = config.weborama_geo_report_vars_lst\n",
    "\n",
    "# пересоздаем пустую таблицу Справочников в БД\n",
    "createDBTable(db_name, weborama_geo_report, weborama_geo_report_vars_lst)\n",
    "# dropTable(db_name, table_name)"
   ]
  },
  {
   "cell_type": "code",
   "execution_count": 3,
   "id": "fb237c3f-f078-4665-83a6-662cc4824899",
   "metadata": {},
   "outputs": [
    {
     "name": "stdout",
     "output_type": "stream",
     "text": [
      "Все ок. Подключились!\n",
      "Пустая таблица weborama_geo_report успешно создана в БД tenant_perekrestok\n"
     ]
    }
   ],
   "source": [
    "# Ежедневный отчет Веборама Гео для БД Перекресток\n",
    "db_name = config.db_name\n",
    "weborama_geo_report = config.weborama_geo_report \n",
    "\n",
    "# создаем общий список названий полей и типов данных \n",
    "# этот список передаем в БД MSSQL для создания новой таблицы\n",
    "weborama_geo_report_vars_lst = config.weborama_geo_report_vars_lst\n",
    "\n",
    "# пересоздаем пустую таблицу Справочников в БД\n",
    "createDBTable(db_name, weborama_geo_report, weborama_geo_report_vars_lst)\n",
    "# dropTable(db_name, table_name)"
   ]
  },
  {
   "cell_type": "code",
   "execution_count": null,
   "id": "6a6ddd07-1f12-4983-bc79-752d924ce59a",
   "metadata": {},
   "outputs": [],
   "source": []
  },
  {
   "cell_type": "code",
   "execution_count": null,
   "id": "f5b5d712-de13-406a-af62-b50b20fa2aca",
   "metadata": {},
   "outputs": [],
   "source": []
  }
 ],
 "metadata": {
  "kernelspec": {
   "display_name": "Python 3 (ipykernel)",
   "language": "python",
   "name": "python3"
  },
  "language_info": {
   "codemirror_mode": {
    "name": "ipython",
    "version": 3
   },
   "file_extension": ".py",
   "mimetype": "text/x-python",
   "name": "python",
   "nbconvert_exporter": "python",
   "pygments_lexer": "ipython3",
   "version": "3.11.7"
  }
 },
 "nbformat": 4,
 "nbformat_minor": 5
}
