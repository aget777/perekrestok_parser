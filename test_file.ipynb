{
 "cells": [
  {
   "cell_type": "code",
   "execution_count": 1,
   "id": "edf09979-61b5-480c-af5c-f23721333c71",
   "metadata": {},
   "outputs": [],
   "source": [
    "import pandas as pd\n",
    "import numpy as np\n",
    "import config\n",
    "from db_funcs import dropTable, get_mssql_connection\n",
    "from weborama_parse_email_report import parse_type_category, get_product_from_insertion\n",
    "import os\n",
    "from datetime import date\n",
    "from datetime import datetime\n",
    "import warnings \n",
    "db_name = config.db_name\n",
    "\n",
    "# file_path = r'C:\\Users\\o.bogomolov\\Desktop\\Jupyter_notebook\\38_x5_report_parser'\n",
    "# file_name = 'test.xlsx'\n",
    "\n",
    "# df = pd.read_excel(os.path.join(file_path, file_name))"
   ]
  },
  {
   "cell_type": "code",
   "execution_count": 2,
   "id": "de544406-41f7-4a87-bf1d-130f86d3c364",
   "metadata": {},
   "outputs": [],
   "source": [
    "# Включаем отображение всех колонок\n",
    "pd.set_option('display.max_columns', None)\n",
    "# Задаем ширину столбцов по контенту\n",
    "pd.set_option('display.max_colwidth', None)\n",
    "pd.set_option('display.max_rows', None)"
   ]
  },
  {
   "cell_type": "code",
   "execution_count": 3,
   "id": "983a8b2e-df2d-4846-9c7e-9f34d772f813",
   "metadata": {},
   "outputs": [
    {
     "name": "stdout",
     "output_type": "stream",
     "text": [
      "Все ок. Подключились!\n"
     ]
    }
   ],
   "source": [
    "conn = get_mssql_connection(db_name)\n",
    "cursor = conn.cursor()\n",
    "\n",
    "\n",
    "query = f'select distinct insertion from weborama_report_table'\n",
    "\n",
    "warnings.simplefilter(action='ignore', category=UserWarning)\n",
    "df = pd.read_sql(query, conn)"
   ]
  },
  {
   "cell_type": "code",
   "execution_count": 4,
   "id": "1347e4a4-c063-4d62-9572-3c5a77f436e6",
   "metadata": {},
   "outputs": [
    {
     "data": {
      "text/html": [
       "<div>\n",
       "<style scoped>\n",
       "    .dataframe tbody tr th:only-of-type {\n",
       "        vertical-align: middle;\n",
       "    }\n",
       "\n",
       "    .dataframe tbody tr th {\n",
       "        vertical-align: top;\n",
       "    }\n",
       "\n",
       "    .dataframe thead th {\n",
       "        text-align: right;\n",
       "    }\n",
       "</style>\n",
       "<table border=\"1\" class=\"dataframe\">\n",
       "  <thead>\n",
       "    <tr style=\"text-align: right;\">\n",
       "      <th></th>\n",
       "      <th>insertion</th>\n",
       "    </tr>\n",
       "  </thead>\n",
       "  <tbody>\n",
       "    <tr>\n",
       "      <th>0</th>\n",
       "      <td>byyd_|format_olv|type_rewarded-video|aud_progr_igronik_media_ge_kitaiskaya-eda_02_2025</td>\n",
       "    </tr>\n",
       "    <tr>\n",
       "      <th>1</th>\n",
       "      <td>yandex_|format_olv|type_videobanner|aud_cenit_igronik_media_cvp1_apelsin_02_2025</td>\n",
       "    </tr>\n",
       "  </tbody>\n",
       "</table>\n",
       "</div>"
      ],
      "text/plain": [
       "                                                                                insertion\n",
       "0  byyd_|format_olv|type_rewarded-video|aud_progr_igronik_media_ge_kitaiskaya-eda_02_2025\n",
       "1        yandex_|format_olv|type_videobanner|aud_cenit_igronik_media_cvp1_apelsin_02_2025"
      ]
     },
     "execution_count": 4,
     "metadata": {},
     "output_type": "execute_result"
    }
   ],
   "source": [
    "df.head(2)"
   ]
  },
  {
   "cell_type": "code",
   "execution_count": null,
   "id": "89c72593-199f-4a7d-a0c7-eea831427343",
   "metadata": {},
   "outputs": [],
   "source": [
    "df.shape"
   ]
  },
  {
   "cell_type": "code",
   "execution_count": null,
   "id": "bc4f6c5f-a7be-4690-b4fe-301982da04e4",
   "metadata": {},
   "outputs": [],
   "source": []
  },
  {
   "cell_type": "code",
   "execution_count": null,
   "id": "dedcb30e-dd74-4f2e-8c2e-c5b577ed9007",
   "metadata": {},
   "outputs": [],
   "source": []
  },
  {
   "cell_type": "code",
   "execution_count": 5,
   "id": "bab3ed3d-1e6f-4708-a940-8533bfba4ff9",
   "metadata": {},
   "outputs": [],
   "source": [
    "df['type'] = df['insertion'].apply(parse_type_category, flag='type_')\n",
    "# парсим название Категории\n",
    "df['category'] = df['insertion'].apply(parse_type_category, flag='format_')\n",
    "# парсим название Продукта\n",
    "df['product'] = df['insertion'].apply(get_product_from_insertion)"
   ]
  },
  {
   "cell_type": "code",
   "execution_count": null,
   "id": "230a10b8-b344-4d8b-bd67-71cf46baf7cc",
   "metadata": {},
   "outputs": [],
   "source": []
  },
  {
   "cell_type": "code",
   "execution_count": 6,
   "id": "41de5533-68a5-494e-948b-3e9d06823ce4",
   "metadata": {},
   "outputs": [
    {
     "data": {
      "text/plain": [
       "0       olv\n",
       "2    banner\n",
       "Name: category, dtype: object"
      ]
     },
     "execution_count": 6,
     "metadata": {},
     "output_type": "execute_result"
    }
   ],
   "source": [
    "df['category'].drop_duplicates()"
   ]
  },
  {
   "cell_type": "code",
   "execution_count": 7,
   "id": "7855b7b5-eefa-42f7-93c4-7443703155df",
   "metadata": {},
   "outputs": [
    {
     "data": {
      "text/plain": [
       "0      rewarded-video\n",
       "1         videobanner\n",
       "2           universal\n",
       "3        cross-stream\n",
       "4              banner\n",
       "6             premium\n",
       "8           in-stream\n",
       "11               main\n",
       "14          multiroll\n",
       "28        promobanner\n",
       "49         fullscreen\n",
       "133             bonus\n",
       "Name: type, dtype: object"
      ]
     },
     "execution_count": 7,
     "metadata": {},
     "output_type": "execute_result"
    }
   ],
   "source": [
    "df['type'].drop_duplicates()"
   ]
  },
  {
   "cell_type": "code",
   "execution_count": null,
   "id": "df0afaa5-2f6c-4127-b37c-5a2698ece9de",
   "metadata": {},
   "outputs": [],
   "source": []
  },
  {
   "cell_type": "code",
   "execution_count": null,
   "id": "c73879dd-a244-4000-aa46-6bec98e990e9",
   "metadata": {},
   "outputs": [],
   "source": []
  },
  {
   "cell_type": "code",
   "execution_count": null,
   "id": "2323bce6-51a2-41c1-b7c2-b961c3892dcc",
   "metadata": {},
   "outputs": [],
   "source": []
  },
  {
   "cell_type": "code",
   "execution_count": null,
   "id": "1da6e838-dd93-4c38-86e9-f957662404f0",
   "metadata": {},
   "outputs": [],
   "source": [
    "flag = 'aud_progr_'#'type_'\n",
    "start_index = row.find(flag)\n",
    "cut_row = row[start_index+len(flag):]\n",
    "end_index = cut_row.find('|')"
   ]
  },
  {
   "cell_type": "code",
   "execution_count": null,
   "id": "635d481e-f61a-45fc-9c1c-7eb3665eb5dc",
   "metadata": {},
   "outputs": [],
   "source": [
    "cut_row[:end_index] if end_index!=-1 else cut_row"
   ]
  },
  {
   "cell_type": "code",
   "execution_count": null,
   "id": "1bb2a376-7358-48e2-bacb-d47f4d6ffcf9",
   "metadata": {},
   "outputs": [],
   "source": []
  },
  {
   "cell_type": "code",
   "execution_count": null,
   "id": "8c7d66e8-9d0e-46fe-bc50-c93119ba71ad",
   "metadata": {},
   "outputs": [],
   "source": []
  },
  {
   "cell_type": "code",
   "execution_count": null,
   "id": "292ae61d-0c29-4cc7-9048-319c5a626e26",
   "metadata": {},
   "outputs": [],
   "source": []
  },
  {
   "cell_type": "code",
   "execution_count": null,
   "id": "a50cf375-b694-4729-9125-5a186be63ef2",
   "metadata": {},
   "outputs": [],
   "source": [
    "end_index"
   ]
  },
  {
   "cell_type": "code",
   "execution_count": null,
   "id": "e8a461c8-a096-4895-83a8-773d8a821951",
   "metadata": {},
   "outputs": [],
   "source": [
    "df['date'] = pd.to_datetime(df['date'])"
   ]
  },
  {
   "cell_type": "code",
   "execution_count": null,
   "id": "a53ff59d-2021-4747-a37a-6805e3b9f302",
   "metadata": {},
   "outputs": [],
   "source": [
    "df = df.sort_values(['date', 'category'])\n",
    "df = df.reset_index(drop='True')"
   ]
  },
  {
   "cell_type": "code",
   "execution_count": null,
   "id": "74da8c4c-b518-46ce-9147-15423d4772e6",
   "metadata": {},
   "outputs": [],
   "source": [
    "df['first_not_blank'] = df[df['amount'] > 0].groupby('category')['date'].transform('min')\n",
    "df['first_not_blank'] = df['first_not_blank'].fillna('0')"
   ]
  },
  {
   "cell_type": "code",
   "execution_count": null,
   "id": "aa6c604c-0514-4974-8e69-439721267861",
   "metadata": {},
   "outputs": [],
   "source": [
    "df"
   ]
  },
  {
   "cell_type": "code",
   "execution_count": null,
   "id": "29390d11-3092-48c4-b8e6-a5ac461ce814",
   "metadata": {},
   "outputs": [],
   "source": [
    "# df['amount_prev'] = np.where((df['first_not_blank']!=0)&(df['date']==df['first_not_blank']), \n",
    "#                            df['amount'], df.groupby('category')['amount'].shift(1))"
   ]
  },
  {
   "cell_type": "code",
   "execution_count": null,
   "id": "0b38689b-1565-4869-93bb-80e4ffff4dc6",
   "metadata": {},
   "outputs": [],
   "source": [
    "# df['amount_prev'] = df['amount_prev'].fillna(0)"
   ]
  },
  {
   "cell_type": "code",
   "execution_count": null,
   "id": "d81fe5f4-bfba-43ad-8bce-1440923a3eb3",
   "metadata": {},
   "outputs": [],
   "source": [
    "df['amount_not_blank'] = df.groupby(['category'])['amount'].cummax()"
   ]
  },
  {
   "cell_type": "code",
   "execution_count": null,
   "id": "b568fff6-4410-402c-92ae-e7d6fb695a40",
   "metadata": {},
   "outputs": [],
   "source": [
    "df"
   ]
  },
  {
   "cell_type": "code",
   "execution_count": null,
   "id": "921233bb-7052-416e-8768-d535429edd59",
   "metadata": {},
   "outputs": [],
   "source": [
    "df['increment'] = np.where((df['first_not_blank']!=0)&(df['date']==df['first_not_blank']), \n",
    "                           df['amount_not_blank'], df['amount_not_blank'] - df.groupby('category')['amount_not_blank'].shift(1))"
   ]
  },
  {
   "cell_type": "code",
   "execution_count": null,
   "id": "22927c75-adb7-4384-bd5c-22774279e4ff",
   "metadata": {},
   "outputs": [],
   "source": [
    "df['increment'] = df['increment'].fillna(0)"
   ]
  },
  {
   "cell_type": "code",
   "execution_count": null,
   "id": "dbaa4f04-adcf-4183-8fee-927087e06af7",
   "metadata": {},
   "outputs": [],
   "source": [
    "df"
   ]
  },
  {
   "cell_type": "code",
   "execution_count": null,
   "id": "865b7418-e60e-498c-9f9f-0f1efaecf20b",
   "metadata": {},
   "outputs": [],
   "source": []
  },
  {
   "cell_type": "code",
   "execution_count": null,
   "id": "74367906-8a2c-49bc-8bbb-e0213bbbb985",
   "metadata": {},
   "outputs": [],
   "source": []
  },
  {
   "cell_type": "code",
   "execution_count": null,
   "id": "765cf3a2-098b-4981-8fc1-fdd609de7fde",
   "metadata": {},
   "outputs": [],
   "source": []
  },
  {
   "cell_type": "code",
   "execution_count": null,
   "id": "e15609cb-5163-4dfa-89b0-5af9875fcf4d",
   "metadata": {},
   "outputs": [],
   "source": []
  },
  {
   "cell_type": "code",
   "execution_count": null,
   "id": "db489a16-5a37-40fd-adfa-98408550c3ad",
   "metadata": {},
   "outputs": [],
   "source": [
    "# df['test'] = df.query('amount > 0').groupby('category')['date'].transform('min')"
   ]
  },
  {
   "cell_type": "code",
   "execution_count": null,
   "id": "0264d4f0-7ae3-46c7-aced-9293be98dd23",
   "metadata": {},
   "outputs": [],
   "source": []
  },
  {
   "cell_type": "code",
   "execution_count": null,
   "id": "c8b8fa6d-6ccc-43d7-8589-34b7f4dadca7",
   "metadata": {},
   "outputs": [],
   "source": [
    "# df['date'] = pd.to_datetime(df['date'])\n",
    "# df['start_date'] = df.groupby('category')['date'].transform('min')"
   ]
  },
  {
   "cell_type": "code",
   "execution_count": null,
   "id": "855ca156-5c72-4ade-9106-c7e3d3b3f25f",
   "metadata": {},
   "outputs": [],
   "source": []
  },
  {
   "cell_type": "code",
   "execution_count": null,
   "id": "94fdcad5-8077-4536-9a01-fdd4c926c6bb",
   "metadata": {},
   "outputs": [],
   "source": []
  },
  {
   "cell_type": "code",
   "execution_count": null,
   "id": "57f7060e-2be3-4a9d-b83f-97f1f08132c6",
   "metadata": {},
   "outputs": [],
   "source": [
    "df"
   ]
  },
  {
   "cell_type": "code",
   "execution_count": null,
   "id": "d51fdaa0-3c36-46f5-8548-fec5e0509eba",
   "metadata": {},
   "outputs": [],
   "source": [
    "df.groupby('category')['increment'].sum()"
   ]
  }
 ],
 "metadata": {
  "kernelspec": {
   "display_name": "Python 3 (ipykernel)",
   "language": "python",
   "name": "python3"
  },
  "language_info": {
   "codemirror_mode": {
    "name": "ipython",
    "version": 3
   },
   "file_extension": ".py",
   "mimetype": "text/x-python",
   "name": "python",
   "nbconvert_exporter": "python",
   "pygments_lexer": "ipython3",
   "version": "3.11.7"
  }
 },
 "nbformat": 4,
 "nbformat_minor": 5
}
