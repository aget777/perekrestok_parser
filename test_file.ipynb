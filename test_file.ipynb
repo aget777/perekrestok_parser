{
 "cells": [
  {
   "cell_type": "code",
   "execution_count": 2,
   "id": "edf09979-61b5-480c-af5c-f23721333c71",
   "metadata": {},
   "outputs": [],
   "source": [
    "import pandas as pd\n",
    "import numpy as np\n",
    "import config\n",
    "from db_funcs import dropTable, get_mssql_connection\n",
    "from weborama_parse_email_report import parse_type_category, get_product_from_insertion\n",
    "import os\n",
    "from datetime import date\n",
    "from datetime import datetime\n",
    "import warnings \n",
    "db_name = config.db_name\n",
    "\n",
    "# file_path = r'C:\\Users\\o.bogomolov\\Desktop\\Jupyter_notebook\\38_x5_report_parser'\n",
    "# file_name = 'test.xlsx'\n",
    "\n",
    "# df = pd.read_excel(os.path.join(file_path, file_name))"
   ]
  },
  {
   "cell_type": "code",
   "execution_count": 3,
   "id": "de544406-41f7-4a87-bf1d-130f86d3c364",
   "metadata": {},
   "outputs": [],
   "source": [
    "# Включаем отображение всех колонок\n",
    "pd.set_option('display.max_columns', None)\n",
    "# Задаем ширину столбцов по контенту\n",
    "pd.set_option('display.max_colwidth', None)\n",
    "pd.set_option('display.max_rows', None)"
   ]
  },
  {
   "cell_type": "code",
   "execution_count": 68,
   "id": "4ef9b607-4116-4ad4-a2d1-14ba5bfa74a7",
   "metadata": {},
   "outputs": [],
   "source": [
    "# основной медиаплан\n",
    "media_plan_link = config.media_plan_link"
   ]
  },
  {
   "cell_type": "code",
   "execution_count": 55,
   "id": "426c82c6-b2a4-42fa-aaf9-a72a6469f4a5",
   "metadata": {},
   "outputs": [],
   "source": []
  },
  {
   "cell_type": "code",
   "execution_count": 74,
   "id": "caee0d19-df28-4718-aec4-19eb10923231",
   "metadata": {},
   "outputs": [],
   "source": [
    "df = pd.read_csv(media_plan_link, header=None, usecols=[0, 1, 2, 3, 4, 5, 6, 7, 8, 9, 10, 11, 12, 13, 14])"
   ]
  },
  {
   "cell_type": "code",
   "execution_count": 75,
   "id": "f529133a-9902-4fa0-a4ab-4c97a5a63fda",
   "metadata": {},
   "outputs": [
    {
     "data": {
      "text/html": [
       "<div>\n",
       "<style scoped>\n",
       "    .dataframe tbody tr th:only-of-type {\n",
       "        vertical-align: middle;\n",
       "    }\n",
       "\n",
       "    .dataframe tbody tr th {\n",
       "        vertical-align: top;\n",
       "    }\n",
       "\n",
       "    .dataframe thead th {\n",
       "        text-align: right;\n",
       "    }\n",
       "</style>\n",
       "<table border=\"1\" class=\"dataframe\">\n",
       "  <thead>\n",
       "    <tr style=\"text-align: right;\">\n",
       "      <th></th>\n",
       "      <th>0</th>\n",
       "      <th>1</th>\n",
       "      <th>2</th>\n",
       "      <th>3</th>\n",
       "      <th>4</th>\n",
       "      <th>5</th>\n",
       "      <th>6</th>\n",
       "      <th>7</th>\n",
       "      <th>8</th>\n",
       "      <th>9</th>\n",
       "      <th>10</th>\n",
       "      <th>11</th>\n",
       "      <th>12</th>\n",
       "      <th>13</th>\n",
       "      <th>14</th>\n",
       "    </tr>\n",
       "  </thead>\n",
       "  <tbody>\n",
       "    <tr>\n",
       "      <th>0</th>\n",
       "      <td>DateStart</td>\n",
       "      <td>DateFinish</td>\n",
       "      <td>Флайт</td>\n",
       "      <td>product</td>\n",
       "      <td>category</td>\n",
       "      <td>type</td>\n",
       "      <td>Направление рк</td>\n",
       "      <td>Источник</td>\n",
       "      <td>Тип закупки</td>\n",
       "      <td>Показы</td>\n",
       "      <td>Клики</td>\n",
       "      <td>Лиды</td>\n",
       "      <td>Расход до НДС</td>\n",
       "      <td>Охват</td>\n",
       "      <td>Просмотры</td>\n",
       "    </tr>\n",
       "    <tr>\n",
       "      <th>1</th>\n",
       "      <td>10.02.2025</td>\n",
       "      <td>03.03.2025</td>\n",
       "      <td>CVP1_apelsin_02_2025</td>\n",
       "      <td>CVP1</td>\n",
       "      <td>olv</td>\n",
       "      <td>cross-stream</td>\n",
       "      <td>CVP1_apelsin_02_2025|format_olv|type_cross-stream</td>\n",
       "      <td>yandex</td>\n",
       "      <td>cpm</td>\n",
       "      <td>9 212 000</td>\n",
       "      <td>13 173</td>\n",
       "      <td>NaN</td>\n",
       "      <td>250 014</td>\n",
       "      <td>3 070 667</td>\n",
       "      <td>5 987 800</td>\n",
       "    </tr>\n",
       "  </tbody>\n",
       "</table>\n",
       "</div>"
      ],
      "text/plain": [
       "           0           1                     2        3         4   \\\n",
       "0   DateStart  DateFinish                 Флайт  product  category   \n",
       "1  10.02.2025  03.03.2025  CVP1_apelsin_02_2025     CVP1       olv   \n",
       "\n",
       "             5                                                  6         7   \\\n",
       "0          type                                     Направление рк  Источник   \n",
       "1  cross-stream  CVP1_apelsin_02_2025|format_olv|type_cross-stream    yandex   \n",
       "\n",
       "            8          9       10    11             12         13         14  \n",
       "0  Тип закупки     Показы   Клики  Лиды  Расход до НДС      Охват  Просмотры  \n",
       "1          cpm  9 212 000  13 173   NaN        250 014  3 070 667  5 987 800  "
      ]
     },
     "execution_count": 75,
     "metadata": {},
     "output_type": "execute_result"
    }
   ],
   "source": [
    "df.head(2)"
   ]
  },
  {
   "cell_type": "code",
   "execution_count": 76,
   "id": "be328100-ebe3-486b-b01b-98b09b11f8a5",
   "metadata": {},
   "outputs": [
    {
     "data": {
      "text/plain": [
       "(49, 15)"
      ]
     },
     "execution_count": 76,
     "metadata": {},
     "output_type": "execute_result"
    }
   ],
   "source": [
    "df.shape"
   ]
  },
  {
   "cell_type": "code",
   "execution_count": 77,
   "id": "02949cf9-e70c-40e1-a96b-711d0f7bdcb2",
   "metadata": {},
   "outputs": [],
   "source": [
    "df = df.rename(columns=df.iloc[0]).drop(df.index[0]).reset_index(drop=True)"
   ]
  },
  {
   "cell_type": "code",
   "execution_count": 78,
   "id": "834beb83-d934-4aa7-86b8-273aa7c42030",
   "metadata": {},
   "outputs": [
    {
     "data": {
      "text/html": [
       "<div>\n",
       "<style scoped>\n",
       "    .dataframe tbody tr th:only-of-type {\n",
       "        vertical-align: middle;\n",
       "    }\n",
       "\n",
       "    .dataframe tbody tr th {\n",
       "        vertical-align: top;\n",
       "    }\n",
       "\n",
       "    .dataframe thead th {\n",
       "        text-align: right;\n",
       "    }\n",
       "</style>\n",
       "<table border=\"1\" class=\"dataframe\">\n",
       "  <thead>\n",
       "    <tr style=\"text-align: right;\">\n",
       "      <th></th>\n",
       "      <th>DateStart</th>\n",
       "      <th>DateFinish</th>\n",
       "      <th>Флайт</th>\n",
       "      <th>product</th>\n",
       "      <th>category</th>\n",
       "      <th>type</th>\n",
       "      <th>Направление рк</th>\n",
       "      <th>Источник</th>\n",
       "      <th>Тип закупки</th>\n",
       "      <th>Показы</th>\n",
       "      <th>Клики</th>\n",
       "      <th>Лиды</th>\n",
       "      <th>Расход до НДС</th>\n",
       "      <th>Охват</th>\n",
       "      <th>Просмотры</th>\n",
       "    </tr>\n",
       "  </thead>\n",
       "  <tbody>\n",
       "    <tr>\n",
       "      <th>0</th>\n",
       "      <td>10.02.2025</td>\n",
       "      <td>03.03.2025</td>\n",
       "      <td>CVP1_apelsin_02_2025</td>\n",
       "      <td>CVP1</td>\n",
       "      <td>olv</td>\n",
       "      <td>cross-stream</td>\n",
       "      <td>CVP1_apelsin_02_2025|format_olv|type_cross-stream</td>\n",
       "      <td>yandex</td>\n",
       "      <td>cpm</td>\n",
       "      <td>9 212 000</td>\n",
       "      <td>13 173</td>\n",
       "      <td>NaN</td>\n",
       "      <td>250 014</td>\n",
       "      <td>3 070 667</td>\n",
       "      <td>5 987 800</td>\n",
       "    </tr>\n",
       "    <tr>\n",
       "      <th>1</th>\n",
       "      <td>12.02.2025</td>\n",
       "      <td>03.03.2025</td>\n",
       "      <td>CVP1_apelsin_02_2025</td>\n",
       "      <td>CVP1</td>\n",
       "      <td>olv</td>\n",
       "      <td>videobanner</td>\n",
       "      <td>CVP1_apelsin_02_2025|format_olv|type_videobanner</td>\n",
       "      <td>yandex</td>\n",
       "      <td>cpm</td>\n",
       "      <td>8 060 000</td>\n",
       "      <td>14 508</td>\n",
       "      <td>NaN</td>\n",
       "      <td>136 697,60</td>\n",
       "      <td>2 686 667</td>\n",
       "      <td>3 224 000</td>\n",
       "    </tr>\n",
       "  </tbody>\n",
       "</table>\n",
       "</div>"
      ],
      "text/plain": [
       "    DateStart  DateFinish                 Флайт product category  \\\n",
       "0  10.02.2025  03.03.2025  CVP1_apelsin_02_2025    CVP1      olv   \n",
       "1  12.02.2025  03.03.2025  CVP1_apelsin_02_2025    CVP1      olv   \n",
       "\n",
       "           type                                     Направление рк Источник  \\\n",
       "0  cross-stream  CVP1_apelsin_02_2025|format_olv|type_cross-stream   yandex   \n",
       "1   videobanner   CVP1_apelsin_02_2025|format_olv|type_videobanner   yandex   \n",
       "\n",
       "  Тип закупки     Показы   Клики Лиды Расход до НДС      Охват  Просмотры  \n",
       "0         cpm  9 212 000  13 173  NaN       250 014  3 070 667  5 987 800  \n",
       "1         cpm  8 060 000  14 508  NaN    136 697,60  2 686 667  3 224 000  "
      ]
     },
     "execution_count": 78,
     "metadata": {},
     "output_type": "execute_result"
    }
   ],
   "source": [
    "df.head(2)"
   ]
  },
  {
   "cell_type": "code",
   "execution_count": 79,
   "id": "08296cbd-f21b-470e-a797-1721a6a3dd34",
   "metadata": {},
   "outputs": [
    {
     "data": {
      "text/plain": [
       "(48, 15)"
      ]
     },
     "execution_count": 79,
     "metadata": {},
     "output_type": "execute_result"
    }
   ],
   "source": [
    "df.shape"
   ]
  },
  {
   "cell_type": "code",
   "execution_count": 18,
   "id": "1439b1de-6437-43eb-99f4-2c49fbdf7281",
   "metadata": {},
   "outputs": [
    {
     "data": {
      "text/plain": [
       "0          DateStart\n",
       "1         DateFinish\n",
       "2              Флайт\n",
       "3            product\n",
       "4           category\n",
       "5               type\n",
       "6     Направление рк\n",
       "7           Источник\n",
       "8        Тип закупки\n",
       "9             Показы\n",
       "10             Клики\n",
       "11              Лиды\n",
       "12     Расход до НДС\n",
       "13             Охват\n",
       "14         Просмотры\n",
       "Name: 0, dtype: object"
      ]
     },
     "execution_count": 18,
     "metadata": {},
     "output_type": "execute_result"
    }
   ],
   "source": [
    "df.iloc[0]"
   ]
  },
  {
   "cell_type": "code",
   "execution_count": 19,
   "id": "40f1b8e1-9040-4448-84ce-de1a367ee46f",
   "metadata": {},
   "outputs": [],
   "source": []
  }
 ],
 "metadata": {
  "kernelspec": {
   "display_name": "Python 3 (ipykernel)",
   "language": "python",
   "name": "python3"
  },
  "language_info": {
   "codemirror_mode": {
    "name": "ipython",
    "version": 3
   },
   "file_extension": ".py",
   "mimetype": "text/x-python",
   "name": "python",
   "nbconvert_exporter": "python",
   "pygments_lexer": "ipython3",
   "version": "3.11.7"
  }
 },
 "nbformat": 4,
 "nbformat_minor": 5
}
