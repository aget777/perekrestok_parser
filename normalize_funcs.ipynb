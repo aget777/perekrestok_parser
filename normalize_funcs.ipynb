{
 "cells": [
  {
   "cell_type": "code",
   "execution_count": 1,
   "id": "d56e51e9-9d4a-4544-9315-6b9ca428512a",
   "metadata": {},
   "outputs": [],
   "source": [
    "import pandas as pd\n",
    "import numpy as np\n",
    "\n",
    "np.object = np.object_"
   ]
  },
  {
   "cell_type": "code",
   "execution_count": null,
   "id": "725a791f-50d6-4774-9b4a-7aed34f12c56",
   "metadata": {},
   "outputs": [],
   "source": [
    "# функция для нормализации данных - приводим в нижний регистр, заполняем пропуски и округляем до 2-х знаков после запятой\n",
    "# принимает на вход:\n",
    "# - датаФрейм\n",
    "# - список из названий полей с типом данных Int (по умолчанию пустой список)\n",
    "# - список из названий полей с типом данных Float (по умолчанию пустой список)\n",
    "\n",
    "def normalize_columns_types(df, int_lst=list(), float_lst=list()):\n",
    "    varchar_lst = list(df.columns) #df.loc[:,df.dtypes==np.object].columns # Через всторенный метод находим поля с текстовыми данными\n",
    "    varchar_lst = list(set(varchar_lst) - set(int_lst) - set(float_lst)) # исключаем из списка с текстовыми данными поля Int и Float\n",
    "    df[varchar_lst] = df[varchar_lst].apply(lambda x: x.astype('str').str.lower().str.strip())\n",
    "    df[varchar_lst] = df[varchar_lst].apply(lambda x: x.str.replace('nan', ''))\n",
    "    df[varchar_lst] = df[varchar_lst].apply(lambda x: x.str.replace(\"'\", \"\"))\n",
    "    \n",
    "    # Обрабатываем поля с типом данных Int\n",
    "    df[int_lst] = df[int_lst].fillna('0')\n",
    "    df[int_lst] = df[int_lst].apply(lambda x: x.astype('str').str.replace('\\xa0', '').str.replace(',', '.').str.replace(' ', ''))\n",
    "    df[int_lst] = df[int_lst].apply(lambda x: x.astype('float64').astype('int64'))\n",
    "    # Обрабатываем поля с типом данных Float\n",
    "    df[float_lst] = df[float_lst].fillna('0.0')\n",
    "    df[float_lst] = df[float_lst].apply(lambda x: x.astype('str').str.replace('\\xa0', '').str.replace(',', '.').str.replace(' ', '').str.replace('р.', ''))\n",
    "    df[float_lst] = df[float_lst].apply(lambda x: x.astype('float64').round(2))\n",
    "    \n",
    "# возвращаем нормализованный датаФрейм\n",
    "    return df"
   ]
  }
 ],
 "metadata": {
  "kernelspec": {
   "display_name": "Python 3 (ipykernel)",
   "language": "python",
   "name": "python3"
  },
  "language_info": {
   "codemirror_mode": {
    "name": "ipython",
    "version": 3
   },
   "file_extension": ".py",
   "mimetype": "text/x-python",
   "name": "python",
   "nbconvert_exporter": "python",
   "pygments_lexer": "ipython3",
   "version": "3.11.7"
  }
 },
 "nbformat": 4,
 "nbformat_minor": 5
}
