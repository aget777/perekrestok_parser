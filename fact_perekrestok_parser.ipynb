{
 "cells": [
  {
   "cell_type": "code",
   "execution_count": 1,
   "id": "b537b361-989e-47ec-8003-a8c062d4c247",
   "metadata": {},
   "outputs": [],
   "source": [
    "import pandas as pd\n",
    "import os\n",
    "from db_funcs import *\n",
    "from normalize_funcs import *\n",
    "from perekrestok_mediaplan_parser import get_base_mediaplan, merge_source_type_id, merge_full_acc_id, get_end_of_week\n",
    "import config\n",
    "import numpy as np\n",
    "from datetime import date\n",
    "from datetime import datetime\n",
    "\n",
    "db_name = config.db_name\n",
    "\n",
    "# Факт по источникам для План-Факта\n",
    "media_fact_link = config.media_fact_link"
   ]
  },
  {
   "cell_type": "code",
   "execution_count": 2,
   "id": "9abf5418-6884-4cb5-a375-5f6ed95d898b",
   "metadata": {},
   "outputs": [],
   "source": [
    "# Включаем отображение всех колонок\n",
    "pd.set_option('display.max_columns', None)\n",
    "# Задаем ширину столбцов по контенту\n",
    "pd.set_option('display.max_colwidth', None)\n",
    "pd.set_option('display.max_rows', None)"
   ]
  },
  {
   "cell_type": "code",
   "execution_count": 5,
   "id": "abe36337-b044-4aa6-bbbb-3427269db4f4",
   "metadata": {},
   "outputs": [],
   "source": [
    "def main_reload_fact_table(media_fact_link):\n",
    "    # функция забирает факт по УРЛ ссылке\n",
    "    # приводит в поряддок названия полей, типы данных, добавляет НДС\n",
    "    # и возвращает датаФрейм\n",
    "    df = get_base_mediaplan(media_fact_link)\n",
    "    df = df.rename(columns={'Дата отчета': 'report_date', 'leads': 'convs', 'reaches': 'reach'})\n",
    "    \n",
    "     # забираем справочник Источников\n",
    "    # добавляем ИД источников к Фактам\n",
    "    df = merge_source_type_id(df)\n",
    "\n",
    "    # забираем справочник Аккаунтов\n",
    "    # добавляем ИД аккаунтов к Фактам\n",
    "    df = merge_full_acc_id(df)\n",
    "\n",
    "    # приводим даты к формату ДатаВремя\n",
    "    df['date_start'] = df['date_start'].apply(lambda x: datetime.strptime(x, '%d.%m.%Y').strftime('%Y-%m-%d'))\n",
    "    df['date_start'] = pd.to_datetime(df['date_start'])\n",
    "    df['date_finish'] = df['date_finish'].apply(lambda x: datetime.strptime(x, '%d.%m.%Y').strftime('%Y-%m-%d'))\n",
    "    df['date_finish'] = pd.to_datetime(df['date_finish'])\n",
    "    df['report_date'] = df['report_date'].apply(lambda x: datetime.strptime(x, '%d.%m.%Y').strftime('%Y-%m-%d'))\n",
    "    df['report_date'] = pd.to_datetime(df['report_date'])\n",
    "    df['end_of_week'] = df['report_date'].apply(get_end_of_week)\n",
    "    # считаем общее кол-во дней во Флайте\n",
    "    df['days_in_flight'] = ((df['date_finish'] - df['date_start']).dt.days) + 1\n",
    "\n",
    "\n",
    "     # пересоздаем пустую таблицу Справочников в БД\n",
    "    media_fact_table = config.media_fact_table #'media_fact_table'\n",
    "    # создаем общий список названий полей и типов данных \n",
    "    # этот список передаем в БД MSSQL для создания новой таблицы\n",
    "    media_fact_table_vars_lst = config.media_fact_table_vars_lst\n",
    "    createDBTable(db_name, media_fact_table, media_fact_table_vars_lst, flag='drop')\n",
    "\n",
    "    # нормализуем типы данных\n",
    "    media_fact_table_int_lst = config.media_fact_table_int_lst\n",
    "    media_fact_table_float_lst = config.media_fact_table_float_lst\n",
    "    df = normalize_columns_types(df, media_fact_table_int_lst, media_fact_table_float_lst)\n",
    "\n",
    "    # записываем в БД MSSQL Факт\n",
    "    downloadTableToDB(db_name, media_fact_table, df)\n",
    "    # return df"
   ]
  },
  {
   "cell_type": "code",
   "execution_count": 9,
   "id": "78170ed9-5b69-457f-8f30-2772f2f731c7",
   "metadata": {},
   "outputs": [
    {
     "name": "stdout",
     "output_type": "stream",
     "text": [
      "Все ок. Подключились!\n",
      "Загрузка завершена успешно\n",
      "Все ок. Подключились!\n",
      "Загрузка завершена успешно\n",
      "Все ок. Подключились!\n",
      "Таблица: media_fact_table успешно удалена в БД: tenant_perekrestok\n",
      "##########\n",
      "Все ок. Подключились!\n",
      "Пустая таблица media_fact_table успешно создана в БД tenant_perekrestok\n",
      "Все ок. Подключились!\n",
      "Скрипт запущен 2025-03-06 09:12:08.610047\n",
      "Данные добавлены в БД: tenant_perekrestok, таблица: media_fact_table\n",
      "Скрипт отработал 2025-03-06 09:12:08.629047\n",
      "Время выполнения задачи: 0:00:00.019000\n",
      "Загрузка завершена. Данные успешно добавлены в БД: tenant_perekrestok\n",
      "##################################################\n",
      "\n"
     ]
    }
   ],
   "source": [
    "# main_reload_fact_table(media_fact_link)"
   ]
  },
  {
   "cell_type": "code",
   "execution_count": 23,
   "id": "6d89a791-878c-4912-b529-7557f3aa5fee",
   "metadata": {},
   "outputs": [
    {
     "name": "stdout",
     "output_type": "stream",
     "text": [
      "Все ок. Подключились!\n",
      "Загрузка завершена успешно\n",
      "Все ок. Подключились!\n",
      "Загрузка завершена успешно\n",
      "Все ок. Подключились!\n",
      "Таблица: media_fact_table успешно удалена в БД: tenant_perekrestok\n",
      "##########\n",
      "Все ок. Подключились!\n",
      "Пустая таблица media_fact_table успешно создана в БД tenant_perekrestok\n",
      "Все ок. Подключились!\n",
      "Скрипт запущен 2025-03-05 16:57:20.437976\n",
      "Данные добавлены в БД: tenant_perekrestok, таблица: media_fact_table\n",
      "Скрипт отработал 2025-03-05 16:57:20.457980\n",
      "Время выполнения задачи: 0:00:00.020004\n",
      "Загрузка завершена. Данные успешно добавлены в БД: tenant_perekrestok\n",
      "##################################################\n",
      "\n"
     ]
    }
   ],
   "source": [
    "# df = main_reload_fact_table(media_fact_link)"
   ]
  },
  {
   "cell_type": "code",
   "execution_count": 18,
   "id": "6dbd6758-64d3-44c3-9adb-0134b612b28b",
   "metadata": {},
   "outputs": [
    {
     "data": {
      "text/plain": [
       "98326659"
      ]
     },
     "execution_count": 18,
     "metadata": {},
     "output_type": "execute_result"
    }
   ],
   "source": []
  },
  {
   "cell_type": "code",
   "execution_count": 19,
   "id": "765a9ceb-4eba-4610-859d-4b97a3e25429",
   "metadata": {},
   "outputs": [
    {
     "data": {
      "text/plain": [
       "197648609"
      ]
     },
     "execution_count": 19,
     "metadata": {},
     "output_type": "execute_result"
    }
   ],
   "source": []
  },
  {
   "cell_type": "code",
   "execution_count": null,
   "id": "bd25d0ed-be65-4d85-91cd-c9fb87b48a33",
   "metadata": {},
   "outputs": [],
   "source": []
  },
  {
   "cell_type": "code",
   "execution_count": null,
   "id": "c6580cd4-3170-42b1-9a7e-dd07adc4e203",
   "metadata": {},
   "outputs": [],
   "source": []
  }
 ],
 "metadata": {
  "kernelspec": {
   "display_name": "Python 3 (ipykernel)",
   "language": "python",
   "name": "python3"
  },
  "language_info": {
   "codemirror_mode": {
    "name": "ipython",
    "version": 3
   },
   "file_extension": ".py",
   "mimetype": "text/x-python",
   "name": "python",
   "nbconvert_exporter": "python",
   "pygments_lexer": "ipython3",
   "version": "3.11.7"
  }
 },
 "nbformat": 4,
 "nbformat_minor": 5
}
